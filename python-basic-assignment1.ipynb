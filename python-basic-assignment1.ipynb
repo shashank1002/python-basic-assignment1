{
 "cells": [
  {
   "cell_type": "raw",
   "id": "1bdbc3c8",
   "metadata": {},
   "source": [
    "1. In the below elements which of them are values or an expression? eg:- values can be integer or string and expressions will be mathematical operators.\n",
    "* \n",
    "'hello'\n",
    "-87.8\n",
    "- \n",
    "/ \n",
    "\n",
    "  +\n",
    "6 \n",
    "ANS=> Expression *,-,/, + \n",
    "Value -87.8,'hello',6"
   ]
  },
  {
   "cell_type": "raw",
   "id": "d3c24935",
   "metadata": {},
   "source": [
    "2. What is the difference between string and variable?\n",
    "ANS=> variable is an entity that hold value.\n",
    "string is data or value inside a double quote or a single quote."
   ]
  },
  {
   "cell_type": "raw",
   "id": "656073b9",
   "metadata": {},
   "source": [
    "3. Describe three different data types.\n",
    "ANS=> List hold all type of value like string, float, int, bool and decleare by list(),[]\n",
    "e.g. s = [23,35.43,\"jupyter notebook\",True,32.343454]\n",
    "\n",
    "set also hold all the value like list in a distinct(do not hold duplicate values) denoted by set(),{} and give output in unordered way.value in set cannot change.\n",
    "\n",
    "dictionary hold data in key value pair and definde by dict(),{}\n"
   ]
  },
  {
   "cell_type": "raw",
   "id": "d68ebb35",
   "metadata": {},
   "source": [
    "4. What is an expression made up of? What do all expressions do?\n",
    "ANS=> An expression is made up of operands and operator.\n",
    "e.g. 1+3"
   ]
  },
  {
   "cell_type": "raw",
   "id": "a00d93e0",
   "metadata": {},
   "source": [
    "5. This assignment statements, like spam = 10. What is the difference between an expression and a statement?\n",
    "ANS=> spam = 10 is statement\n",
    "A statement that does something, like a = 10, print(a),a = 1+2.\n",
    "An expression evaluates to a value or an expression that can redue something to a value.e.g.(1+4)"
   ]
  },
  {
   "cell_type": "raw",
   "id": "c5ec6bbd",
   "metadata": {},
   "source": [
    "6. After running the following code, what does the variable bacon contain?\n",
    "bacon = 22\n",
    "bacon + 1\n",
    "ANS=> variable bacon value =22"
   ]
  },
  {
   "cell_type": "raw",
   "id": "c7bbd935",
   "metadata": {},
   "source": [
    "7. What should the values of the following two terms be?\n",
    "'spam' + 'spamspam'\n",
    "'spam' * 3\n",
    "\n",
    "ANS=> value of both is 'spamspamspam'"
   ]
  },
  {
   "cell_type": "raw",
   "id": "78a317ab",
   "metadata": {},
   "source": [
    "8. Why is eggs a valid variable name while 100 is invalid?\n",
    "ANS=> due to python naming rule"
   ]
  },
  {
   "cell_type": "raw",
   "id": "60216ee3",
   "metadata": {},
   "source": [
    "9. What three functions can be used to get the integer, floating-point number, or string version of a value?\n",
    "ANS=>  int(), float(), str()+"
   ]
  },
  {
   "cell_type": "raw",
   "id": "a87c99b6",
   "metadata": {},
   "source": [
    "10. Why does this expression cause an error? How can you fix it?\n",
    "'I have eaten ' + 99 + ' burritos.'\n",
    "ANS=> In python we can't add string with other data type like with int.\n",
    "'I have eaten ' + str(99) + ' burritos. '"
   ]
  }
 ],
 "metadata": {
  "kernelspec": {
   "display_name": "Python 3 (ipykernel)",
   "language": "python",
   "name": "python3"
  },
  "language_info": {
   "codemirror_mode": {
    "name": "ipython",
    "version": 3
   },
   "file_extension": ".py",
   "mimetype": "text/x-python",
   "name": "python",
   "nbconvert_exporter": "python",
   "pygments_lexer": "ipython3",
   "version": "3.9.7"
  }
 },
 "nbformat": 4,
 "nbformat_minor": 5
}
